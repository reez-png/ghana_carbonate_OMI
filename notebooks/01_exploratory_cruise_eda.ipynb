{
 "cells": [
  {
   "cell_type": "code",
   "execution_count": 1,
   "id": "cced484e-2e93-4714-9321-df9865b8ae47",
   "metadata": {},
   "outputs": [
    {
     "data": {
      "text/html": [
       "\n",
       "            <div>\n",
       "                <ins><a href=\"https://ydata.ai/register\">Upgrade to ydata-sdk</a></ins>\n",
       "                <p>\n",
       "                    Improve your data and profiling with ydata-sdk, featuring data quality scoring, redundancy detection, outlier identification, text validation, and synthetic data generation.\n",
       "                </p>\n",
       "            </div>\n",
       "            "
      ],
      "text/plain": [
       "<IPython.core.display.HTML object>"
      ]
     },
     "metadata": {},
     "output_type": "display_data"
    },
    {
     "data": {
      "application/vnd.jupyter.widget-view+json": {
       "model_id": "6c0ab21e796349208f7d2ae826bfc841",
       "version_major": 2,
       "version_minor": 0
      },
      "text/plain": [
       "Summarize dataset:   0%|          | 0/5 [00:00<?, ?it/s]"
      ]
     },
     "metadata": {},
     "output_type": "display_data"
    },
    {
     "name": "stderr",
     "output_type": "stream",
     "text": [
      "\n",
      "100%|████████████████████████████████████████████████████████████████████████████████████████████████████████████████████████████████████████████████████████████████████████████████████████████| 32/32 [00:00<00:00, 1808.01it/s]\u001b[A\n"
     ]
    },
    {
     "data": {
      "application/vnd.jupyter.widget-view+json": {
       "model_id": "eaf9905de4b04db8b1821a19cb5a6f34",
       "version_major": 2,
       "version_minor": 0
      },
      "text/plain": [
       "Generate report structure:   0%|          | 0/1 [00:00<?, ?it/s]"
      ]
     },
     "metadata": {},
     "output_type": "display_data"
    },
    {
     "data": {
      "application/vnd.jupyter.widget-view+json": {
       "model_id": "edc8d10c861a4ac4b203c7c23a32ecc2",
       "version_major": 2,
       "version_minor": 0
      },
      "text/plain": [
       "Render HTML:   0%|          | 0/1 [00:00<?, ?it/s]"
      ]
     },
     "metadata": {},
     "output_type": "display_data"
    },
    {
     "data": {
      "application/vnd.jupyter.widget-view+json": {
       "model_id": "4857bf56cb1d479f8fd4306a5d0e1a12",
       "version_major": 2,
       "version_minor": 0
      },
      "text/plain": [
       "Export report to file:   0%|          | 0/1 [00:00<?, ?it/s]"
      ]
     },
     "metadata": {},
     "output_type": "display_data"
    },
    {
     "name": "stdout",
     "output_type": "stream",
     "text": [
      "✔ Profile saved to: C:\\Users\\OA_2023-03\\Documents\\dev\\ghana_carbonate_OMI\\results\\reports\\water_co2_profile.html\n"
     ]
    }
   ],
   "source": [
    "# In 01_exploratory_cruise_eda.ipynb ─ first code cell\n",
    "import pandas as pd\n",
    "from ydata_profiling import ProfileReport\n",
    "from pathlib import Path\n",
    "\n",
    "DATA_DIR = Path.cwd().parents[0] / \"data\" / \"interim\"\n",
    "df = pd.read_parquet(DATA_DIR / \"water_co2.parquet\")\n",
    "\n",
    "# ---------- quick profile (takes 5–20 s depending on rows) ----------\n",
    "profile = ProfileReport(\n",
    "    df,\n",
    "    title=\"Cruise EDA – water_co2\",\n",
    "    explorative=True\n",
    ")\n",
    "\n",
    "REPORT_DIR = Path.cwd().parents[0] / \"results\" / \"reports\"\n",
    "REPORT_DIR.mkdir(parents=True, exist_ok=True)\n",
    "\n",
    "profile_path = REPORT_DIR / \"water_co2_profile.html\"\n",
    "profile.to_file(profile_path)\n",
    "\n",
    "print(\"✔ Profile saved to:\", profile_path)\n",
    "\n",
    "import seaborn as sns\n",
    "import matplotlib.pyplot as plt\n",
    "\n",
    "FIG_DIR = Path.cwd().parents[0] / \"results\" / \"figures\"\n",
    "FIG_DIR.mkdir(exist_ok=True)\n",
    "\n",
    "# 3-a  depth profile (temp vs depth)\n",
    "fig1, ax1 = plt.subplots()\n",
    "sns.lineplot(data=df, x=\"temp_wat\", y=\"depth_m\",\n",
    "             marker=\"o\", hue=\"cruise\", ax=ax1)\n",
    "ax1.invert_yaxis()\n",
    "ax1.set_xlabel(\"Water temperature (°C)\")\n",
    "ax1.set_ylabel(\"Depth (m)\")\n",
    "fig1.savefig(FIG_DIR / \"temp_depth_profile.png\", dpi=300, bbox_inches=\"tight\")\n",
    "\n",
    "# 3-b  θ-S diagram\n",
    "fig2, ax2 = plt.subplots()\n",
    "sns.scatterplot(data=df, x=\"sal_wat\", y=\"temp_wat\",\n",
    "                hue=\"depth_m\", palette=\"viridis_r\", ax=ax2)\n",
    "ax2.set_xlabel(\"Salinity (PSU)\")\n",
    "ax2.set_ylabel(\"Temperature (°C)\")\n",
    "fig2.savefig(FIG_DIR / \"theta_s_diagram.png\", dpi=300, bbox_inches=\"tight\")"
   ]
  },
  {
   "cell_type": "code",
   "execution_count": null,
   "id": "3a04bc9f-4b4e-421b-baeb-5fa6ebc77b92",
   "metadata": {},
   "outputs": [],
   "source": []
  }
 ],
 "metadata": {
  "kernelspec": {
   "display_name": "Python 3 (ipykernel)",
   "language": "python",
   "name": "python3"
  },
  "language_info": {
   "codemirror_mode": {
    "name": "ipython",
    "version": 3
   },
   "file_extension": ".py",
   "mimetype": "text/x-python",
   "name": "python",
   "nbconvert_exporter": "python",
   "pygments_lexer": "ipython3",
   "version": "3.11.8"
  }
 },
 "nbformat": 4,
 "nbformat_minor": 5
}
